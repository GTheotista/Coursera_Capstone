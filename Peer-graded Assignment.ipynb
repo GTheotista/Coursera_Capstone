{
 "cells": [
  {
   "cell_type": "markdown",
   "id": "35815822",
   "metadata": {},
   "source": [
    "# Peer-graded Assignment"
   ]
  },
  {
   "cell_type": "markdown",
   "id": "78e6b45e",
   "metadata": {},
   "source": [
    "## Introduction\n",
    "\n",
    "Welcome to my Data Science Notebook! In this notebook, we will explore various aspects of data science, including languages, libraries, and practical examples. Whether you are a beginner or an experienced data scientist, I hope you find valuable information and examples to enhance your skills.\n",
    "\n",
    "Feel free to navigate through the different sections to learn about popular data science languages, libraries, and tools. Additionally, we'll delve into some coding examples to demonstrate key concepts in data science.\n",
    "\n",
    "Let's dive in and explore the fascinating world of data science!\n"
   ]
  },
  {
   "cell_type": "markdown",
   "id": "2cdd1237",
   "metadata": {},
   "source": [
    "## Data Science Languages\n",
    "- Python\n",
    "- R\n",
    "- SQL"
   ]
  },
  {
   "cell_type": "markdown",
   "id": "b78062ec",
   "metadata": {},
   "source": [
    "## Data Science Libraries\n",
    "- NumPy\n",
    "- Pandas\n",
    "- Matplotlib\n"
   ]
  },
  {
   "cell_type": "markdown",
   "id": "dba541b4",
   "metadata": {},
   "source": [
    "## Data Science Tools\n",
    "\n",
    "Let's explore a variety of tools that contribute to the data science ecosystem. Here's a table summarizing some essential data science tools:\n",
    "\n",
    "| Tool               | Description                              |\n",
    "| ------------------ | ---------------------------------------- |\n",
    "| Jupyter Notebook   | An open-source, interactive notebook environment for data science and machine learning. |\n",
    "| VS Code            | A widely-used code editor with great support for Python and various extensions for data science. |\n",
    "| Git                | A distributed version control system, essential for collaborative projects and tracking changes. |\n",
    "| GitHub             | A web-based platform for version control using Git, facilitating collaboration and code sharing. |\n",
    "| Docker             | A platform for automating the deployment of applications in lightweight, portable containers. |\n",
    "| Tableau            | A popular data visualization tool for creating interactive and shareable dashboards. |\n",
    "| TensorFlow         | An open-source machine learning framework developed by Google for building and deploying ML models. |\n",
    "| PyTorch            | An open-source machine learning library developed by Facebook, known for its dynamic computation graph. |\n",
    "\n",
    "Feel free to explore these tools based on your specific data science needs and preferences.\n"
   ]
  },
  {
   "cell_type": "markdown",
   "id": "9911fdbd",
   "metadata": {},
   "source": [
    "### Basic Operations\n",
    "\n",
    "- **Addition (+):** Combining two or more values.\n",
    "- **Subtraction (-):** Finding the difference between two values.\n",
    "- **Multiplication (*):** Multiplying two values.\n",
    "- **Division (/):** Dividing one value by another."
   ]
  },
  {
   "cell_type": "code",
   "execution_count": 4,
   "id": "b8413db3",
   "metadata": {},
   "outputs": [
    {
     "name": "stdout",
     "output_type": "stream",
     "text": [
      "Addition: 10 + 5 = 15\n",
      "Subtraction: 10 - 5 = 5\n",
      "Multiplication: 10 * 5 = 50\n",
      "Division: 10 / 5 = 2.0\n"
     ]
    }
   ],
   "source": [
    "# Arithmetic Expression Examples\n",
    "\n",
    "# Define variables\n",
    "a = 10\n",
    "b = 5\n",
    "\n",
    "# Addition\n",
    "result_addition = a + b\n",
    "print(f\"Addition: {a} + {b} = {result_addition}\")\n",
    "\n",
    "# Subtraction\n",
    "result_subtraction = a - b\n",
    "print(f\"Subtraction: {a} - {b} = {result_subtraction}\")\n",
    "\n",
    "# Multiplication\n",
    "result_multiplication = a * b\n",
    "print(f\"Multiplication: {a} * {b} = {result_multiplication}\")\n",
    "\n",
    "# Division\n",
    "result_division = a / b\n",
    "print(f\"Division: {a} / {b} = {result_division}\")\n"
   ]
  },
  {
   "cell_type": "code",
   "execution_count": 5,
   "id": "7cfab883",
   "metadata": {},
   "outputs": [
    {
     "data": {
      "text/plain": [
       "(15, 8)"
      ]
     },
     "execution_count": 5,
     "metadata": {},
     "output_type": "execute_result"
    }
   ],
   "source": [
    "# Example code for multiplication and addition\n",
    "a = 5\n",
    "b = 3\n",
    "result_multiply = a * b\n",
    "result_add = a + b\n",
    "result_multiply, result_add"
   ]
  },
  {
   "cell_type": "code",
   "execution_count": 6,
   "id": "a1913879",
   "metadata": {},
   "outputs": [
    {
     "data": {
      "text/plain": [
       "2.0"
      ]
     },
     "execution_count": 6,
     "metadata": {},
     "output_type": "execute_result"
    }
   ],
   "source": [
    "# Example code to convert minutes to hours\n",
    "minutes = 120\n",
    "hours = minutes / 60\n",
    "hours"
   ]
  },
  {
   "cell_type": "markdown",
   "id": "13f32680",
   "metadata": {},
   "source": [
    "## Objectives\n",
    "- Explore data science languages and libraries\n",
    "- Understand basic arithmetic expressions in Python\n",
    "- Demonstrate coding examples"
   ]
  },
  {
   "cell_type": "markdown",
   "id": "ff95dd38",
   "metadata": {},
   "source": [
    "## Author\n",
    "**Giovanny Theotista**"
   ]
  },
  {
   "cell_type": "code",
   "execution_count": null,
   "id": "eca8f7dd",
   "metadata": {},
   "outputs": [],
   "source": []
  }
 ],
 "metadata": {
  "kernelspec": {
   "display_name": "Python 3 (ipykernel)",
   "language": "python",
   "name": "python3"
  },
  "language_info": {
   "codemirror_mode": {
    "name": "ipython",
    "version": 3
   },
   "file_extension": ".py",
   "mimetype": "text/x-python",
   "name": "python",
   "nbconvert_exporter": "python",
   "pygments_lexer": "ipython3",
   "version": "3.11.5"
  }
 },
 "nbformat": 4,
 "nbformat_minor": 5
}
